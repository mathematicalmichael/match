{
 "cells": [
  {
   "cell_type": "code",
   "execution_count": null,
   "metadata": {},
   "outputs": [],
   "source": [
    "# HIDDEN\n",
    "# from IPython.display import HTML \n",
    "# HTML(open(\"showhide.html\", \"r\").read() )"
   ]
  },
  {
   "cell_type": "code",
   "execution_count": null,
   "metadata": {},
   "outputs": [],
   "source": [
    "# HIDDEN\n",
    "\n",
    "import ipywidgets as wd\n",
    "import numpy as np\n",
    "import matplotlib.pyplot as plt"
   ]
  },
  {
   "cell_type": "code",
   "execution_count": null,
   "metadata": {},
   "outputs": [],
   "source": [
    "# HIDDEN\n",
    "\n",
    "people = ['A', 'B']\n",
    "P = {name:[] for name in people}\n",
    "functions = [\n",
    "            'substantive feedback', \n",
    "            'professional development', \n",
    "            'emotional support',\n",
    "            'intellectual community',\n",
    "            'safe space',\n",
    "            'role models',\n",
    "            'accountability',\n",
    "            'access to opportunities',\n",
    "            'sponsorship'\n",
    "             ]"
   ]
  },
  {
   "cell_type": "markdown",
   "metadata": {},
   "source": [
    "<center><h1> Prototype: Matching Needs</h1>\n",
    "\n",
    "\"Person A\" and \"Person B\"\n",
    "</center>\n",
    "\n",
    "## TO DO \n",
    "\n",
    "- yaml load/read instead of overwriting P\n",
    "    - or... interface for starting with an empty one that allows you to add/remove names\n",
    "- plot similarities/overlap\n"
   ]
  },
  {
   "cell_type": "code",
   "execution_count": null,
   "metadata": {},
   "outputs": [],
   "source": [
    "# HIDDEN\n",
    "people_list = wd.Dropdown(options=people)\n",
    "function_list = wd.Dropdown(options=functions)\n",
    "add_btn = wd.Button(description='Add')\n",
    "rem_btn = wd.Button(description='Remove')\n",
    "output_box = wd.Output()"
   ]
  },
  {
   "cell_type": "code",
   "execution_count": null,
   "metadata": {},
   "outputs": [],
   "source": [
    "# HIDDEN\n",
    "\n",
    "def add_function(item, item_list):\n",
    "    if not check_in_list(item, item_list):\n",
    "        item_list.append(item)\n",
    "    return item_list\n",
    "\n",
    "def rem_function(item, item_list):\n",
    "    if check_in_list(item, item_list):\n",
    "        item_list.remove(item)\n",
    "    return item_list\n",
    "\n",
    "def check_in_list(item, item_list):\n",
    "    return item in item_list"
   ]
  },
  {
   "cell_type": "code",
   "execution_count": null,
   "metadata": {},
   "outputs": [],
   "source": [
    "# HIDDEN\n",
    "\n",
    "def get_states():\n",
    "    person = people_list.value\n",
    "    function = function_list.value\n",
    "    return person, function\n",
    "\n",
    "\n",
    "def display_results():\n",
    "    output_box.clear_output()\n",
    "    with output_box:\n",
    "        for person in P:\n",
    "            print('%s: '%person, np.sort(P[person]))\n",
    "    return\n",
    "\n",
    "def add_callback(*args):\n",
    "    person, function = get_states()\n",
    "    current_list = P[person]\n",
    "    new_list = add_function(function, current_list)\n",
    "    P[person] = new_list\n",
    "    display_results()\n",
    "    return \n",
    "\n",
    "def rem_callback(*args):\n",
    "    person, function = get_states()\n",
    "    current_list = P[person]\n",
    "    new_list = rem_function(function, current_list)\n",
    "    P[person] = new_list\n",
    "    display_results()\n",
    "    return \n",
    "\n",
    "add_btn.on_click(add_callback)\n",
    "rem_btn.on_click(rem_callback)"
   ]
  },
  {
   "cell_type": "code",
   "execution_count": null,
   "metadata": {
    "scrolled": true
   },
   "outputs": [],
   "source": [
    "wd.VBox([wd.HBox([people_list, function_list, add_btn, rem_btn]),\n",
    "    output_box])"
   ]
  },
  {
   "cell_type": "code",
   "execution_count": null,
   "metadata": {},
   "outputs": [],
   "source": []
  }
 ],
 "metadata": {
  "kernelspec": {
   "display_name": "Python 3",
   "language": "python",
   "name": "python3"
  },
  "language_info": {
   "codemirror_mode": {
    "name": "ipython",
    "version": 3
   },
   "file_extension": ".py",
   "mimetype": "text/x-python",
   "name": "python",
   "nbconvert_exporter": "python",
   "pygments_lexer": "ipython3",
   "version": "3.7.1"
  }
 },
 "nbformat": 4,
 "nbformat_minor": 2
}
