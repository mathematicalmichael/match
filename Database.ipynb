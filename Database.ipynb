{
 "cells": [
  {
   "cell_type": "code",
   "execution_count": 11,
   "metadata": {},
   "outputs": [
    {
     "data": {
      "text/html": [
       "<script>code_show=true; function code_toggle() { if (code_show){ $('div.input').hide(); } else { $('div.input').show(); } code_show = !code_show} $( document ).ready(code_toggle);</script><form action=\"javascript:code_toggle()\"><input type=\"submit\" value=\"Show/Hide Raw Code.\"></form>\n"
      ],
      "text/plain": [
       "<IPython.core.display.HTML object>"
      ]
     },
     "execution_count": 11,
     "metadata": {},
     "output_type": "execute_result"
    }
   ],
   "source": [
    "from IPython.display import HTML \n",
    "HTML(open(\"showhide.html\", \"r\").read() )"
   ]
  },
  {
   "cell_type": "code",
   "execution_count": 12,
   "metadata": {},
   "outputs": [],
   "source": [
    "import ipywidgets as wd\n",
    "import numpy as np\n",
    "import matplotlib.pyplot as plt"
   ]
  },
  {
   "cell_type": "code",
   "execution_count": 13,
   "metadata": {},
   "outputs": [],
   "source": [
    "functions = [\n",
    "            'substantive feedback', \n",
    "            'professional development', \n",
    "            'emotional support',\n",
    "            'intellectual community',\n",
    "            'safe space',\n",
    "            'role models',\n",
    "            'accountability',\n",
    "            'access to opportunities',\n",
    "            'sponsorship'\n",
    "             ]"
   ]
  },
  {
   "cell_type": "code",
   "execution_count": 14,
   "metadata": {},
   "outputs": [],
   "source": [
    "people = ['A', 'B']"
   ]
  },
  {
   "cell_type": "markdown",
   "metadata": {},
   "source": [
    "## TO DO \n",
    "\n",
    "- yaml load/read instead of overwriting P\n",
    "    - or... interface for starting with an empty one that allows you to add/remove names\n",
    "- plot similarities/overlap\n"
   ]
  },
  {
   "cell_type": "code",
   "execution_count": 15,
   "metadata": {},
   "outputs": [],
   "source": [
    "P = {name:[] for name in people}"
   ]
  },
  {
   "cell_type": "code",
   "execution_count": 16,
   "metadata": {},
   "outputs": [],
   "source": [
    "people_list = wd.Dropdown(options=people)\n",
    "function_list = wd.Dropdown(options=functions)\n",
    "add_btn = wd.Button(description='Add')\n",
    "rem_btn = wd.Button(description='Remove')\n",
    "output_box = wd.Output()"
   ]
  },
  {
   "cell_type": "code",
   "execution_count": 17,
   "metadata": {},
   "outputs": [],
   "source": [
    "def add_function(item, item_list):\n",
    "    if not check_in_list(item, item_list):\n",
    "        item_list.append(item)\n",
    "    return item_list\n",
    "\n",
    "def rem_function(item, item_list):\n",
    "    if check_in_list(item, item_list):\n",
    "        item_list.remove(item)\n",
    "    return item_list\n",
    "\n",
    "def check_in_list(item, item_list):\n",
    "    return item in item_list"
   ]
  },
  {
   "cell_type": "code",
   "execution_count": 18,
   "metadata": {},
   "outputs": [],
   "source": [
    "def get_states():\n",
    "    person = people_list.value\n",
    "    function = function_list.value\n",
    "    return person, function\n",
    "\n",
    "\n",
    "def display_results():\n",
    "    output_box.clear_output()\n",
    "    with output_box:\n",
    "        for person in P:\n",
    "            print('%s: '%person, np.sort(P[person]))\n",
    "    return\n",
    "\n",
    "def add_callback(*args):\n",
    "    person, function = get_states()\n",
    "    current_list = P[person]\n",
    "    new_list = add_function(function, current_list)\n",
    "    P[person] = new_list\n",
    "    display_results()\n",
    "    return \n",
    "\n",
    "def rem_callback(*args):\n",
    "    person, function = get_states()\n",
    "    current_list = P[person]\n",
    "    new_list = rem_function(function, current_list)\n",
    "    P[person] = new_list\n",
    "    display_results()\n",
    "    return \n",
    "\n",
    "add_btn.on_click(add_callback)\n",
    "rem_btn.on_click(rem_callback)"
   ]
  },
  {
   "cell_type": "code",
   "execution_count": 19,
   "metadata": {
    "scrolled": true
   },
   "outputs": [
    {
     "data": {
      "application/vnd.jupyter.widget-view+json": {
       "model_id": "8ea89e914cee4f049d3e8ea4fba8a787",
       "version_major": 2,
       "version_minor": 0
      },
      "text/plain": [
       "VBox(children=(HBox(children=(Dropdown(options=('A', 'B'), value='A'), Dropdown(options=('substantive feedback…"
      ]
     },
     "metadata": {},
     "output_type": "display_data"
    }
   ],
   "source": [
    "wd.VBox([wd.HBox([people_list, function_list, add_btn, rem_btn]),\n",
    "    output_box])"
   ]
  },
  {
   "cell_type": "code",
   "execution_count": null,
   "metadata": {},
   "outputs": [],
   "source": []
  }
 ],
 "metadata": {
  "kernelspec": {
   "display_name": "Python 3",
   "language": "python",
   "name": "python3"
  },
  "language_info": {
   "codemirror_mode": {
    "name": "ipython",
    "version": 3
   },
   "file_extension": ".py",
   "mimetype": "text/x-python",
   "name": "python",
   "nbconvert_exporter": "python",
   "pygments_lexer": "ipython3",
   "version": "3.7.1"
  }
 },
 "nbformat": 4,
 "nbformat_minor": 2
}
